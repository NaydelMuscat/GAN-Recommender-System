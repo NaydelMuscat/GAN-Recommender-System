{
 "cells": [
  {
   "cell_type": "code",
   "execution_count": 1,
   "metadata": {},
   "outputs": [],
   "source": [
    "import torch\n",
    "from torch import nn\n",
    "\n",
    "import math\n",
    "import matplotlib.pyplot as plt"
   ]
  },
  {
   "cell_type": "code",
   "execution_count": 2,
   "metadata": {},
   "outputs": [
    {
     "data": {
      "text/plain": [
       "<torch._C.Generator at 0x1dcc3de3410>"
      ]
     },
     "execution_count": 2,
     "metadata": {},
     "output_type": "execute_result"
    }
   ],
   "source": [
    "torch.manual_seed(111)"
   ]
  },
  {
   "cell_type": "code",
   "execution_count": 3,
   "metadata": {},
   "outputs": [],
   "source": [
    "train_data_length = 1024\n",
    "train_data = torch.zeros((train_data_length, 2))\n",
    "train_data[:, 0] = 2 * math.pi * torch.rand(train_data_length)\n",
    "train_data[:, 1] = torch.sin(train_data[:, 0])\n",
    "train_labels = torch.zeros(train_data_length)\n",
    "train_set = [\n",
    "    (train_data[i], train_labels[i]) for i in range(train_data_length)\n",
    "]"
   ]
  },
  {
   "cell_type": "code",
   "execution_count": 4,
   "metadata": {},
   "outputs": [
    {
     "data": {
      "text/plain": [
       "[<matplotlib.lines.Line2D at 0x1dcc89a7ee0>]"
      ]
     },
     "execution_count": 4,
     "metadata": {},
     "output_type": "execute_result"
    },
    {
     "data": {
      "image/png": "[encoded data removed]",
      "text/plain": [
       "<Figure size 640x480 with 1 Axes>"
      ]
     },
     "metadata": {},
     "output_type": "display_data"
    }
   ],
   "source": [
    "plt.plot(train_data[:, 0], train_data[:, 1], \".\")"
   ]
  },
  {
   "cell_type": "code",
   "execution_count": 5,
   "metadata": {},
   "outputs": [],
   "source": [
    "batch_size = 32\n",
    "train_loader = torch.utils.data.DataLoader(\n",
    "    train_set, batch_size=batch_size, shuffle=True\n",
    ")"
   ]
  },
  {
   "cell_type": "code",
   "execution_count": 6,
   "metadata": {},
   "outputs": [],
   "source": [
    "class Discriminator(nn.Module):\n",
    "    def __init__(self):\n",
    "        super().__init__()\n",
    "        self.model = nn.Sequential(\n",
    "            nn.Linear(2, 256),\n",
    "            nn.ReLU(),\n",
    "            nn.Dropout(0.3),\n",
    "            nn.Linear(256, 128),\n",
    "            nn.ReLU(),\n",
    "            nn.Dropout(0.3),\n",
    "            nn.Linear(128, 64),\n",
    "            nn.ReLU(),\n",
    "            nn.Dropout(0.3),\n",
    "            nn.Linear(64, 1),\n",
    "            nn.Sigmoid(),\n",
    "        )\n",
    "\n",
    "    def forward(self, x):\n",
    "        output = self.model(x)\n",
    "        return output"
   ]
  },
  {
   "cell_type": "code",
   "execution_count": 7,
   "metadata": {},
   "outputs": [],
   "source": [
    "discriminator = Discriminator()"
   ]
  },
  {
   "cell_type": "code",
   "execution_count": 8,
   "metadata": {},
   "outputs": [],
   "source": [
    "class Generator(nn.Module):\n",
    "    def __init__(self):\n",
    "        super().__init__()\n",
    "        self.model = nn.Sequential(\n",
    "            nn.Linear(2, 16),\n",
    "            nn.ReLU(),\n",
    "            nn.Linear(16, 32),\n",
    "            nn.ReLU(),\n",
    "            nn.Linear(32, 2),\n",
    "        )\n",
    "\n",
    "    def forward(self, x):\n",
    "        output = self.model(x)\n",
    "        return output\n",
    "\n",
    "generator = Generator()"
   ]
  },
  {
   "cell_type": "code",
   "execution_count": 9,
   "metadata": {},
   "outputs": [],
   "source": [
    "lr = 0.001\n",
    "num_epochs = 300\n",
    "loss_function = nn.BCELoss()"
   ]
  },
  {
   "cell_type": "code",
   "execution_count": 10,
   "metadata": {},
   "outputs": [],
   "source": [
    "optimizer_discriminator = torch.optim.Adam(discriminator.parameters(), lr=lr)\n",
    "optimizer_generator = torch.optim.Adam(generator.parameters(), lr=lr)"
   ]
  },
  {
   "cell_type": "code",
   "execution_count": 11,
   "metadata": {},
   "outputs": [
    {
     "name": "stdout",
     "output_type": "stream",
     "text": [
      "Epoch: 0 Loss D.: 0.21308742463588715\n",
      "Epoch: 0 Loss G.: 1.7989581823349\n",
      "Epoch: 10 Loss D.: 0.6099680662155151\n",
      "Epoch: 10 Loss G.: 0.9077385067939758\n",
      "Epoch: 20 Loss D.: 0.620063066482544\n",
      "Epoch: 20 Loss G.: 0.9532092809677124\n",
      "Epoch: 30 Loss D.: 0.6283488273620605\n",
      "Epoch: 30 Loss G.: 0.9910141229629517\n",
      "Epoch: 40 Loss D.: 0.6770229935646057\n",
      "Epoch: 40 Loss G.: 0.6435416340827942\n",
      "Epoch: 50 Loss D.: 0.6597822308540344\n",
      "Epoch: 50 Loss G.: 0.8030276894569397\n",
      "Epoch: 60 Loss D.: 0.7011778354644775\n",
      "Epoch: 60 Loss G.: 0.6873208284378052\n",
      "Epoch: 70 Loss D.: 0.6248222589492798\n",
      "Epoch: 70 Loss G.: 0.8231405019760132\n",
      "Epoch: 80 Loss D.: 0.6872455477714539\n",
      "Epoch: 80 Loss G.: 0.8475332260131836\n",
      "Epoch: 90 Loss D.: 0.6637624502182007\n",
      "Epoch: 90 Loss G.: 0.6601176857948303\n",
      "Epoch: 100 Loss D.: 0.6075984835624695\n",
      "Epoch: 100 Loss G.: 0.7509164810180664\n",
      "Epoch: 110 Loss D.: 0.6317901015281677\n",
      "Epoch: 110 Loss G.: 0.9446561336517334\n",
      "Epoch: 120 Loss D.: 0.6777792572975159\n",
      "Epoch: 120 Loss G.: 0.756044864654541\n",
      "Epoch: 130 Loss D.: 0.6969320774078369\n",
      "Epoch: 130 Loss G.: 0.7902374267578125\n",
      "Epoch: 140 Loss D.: 0.6842067837715149\n",
      "Epoch: 140 Loss G.: 0.6900292038917542\n",
      "Epoch: 150 Loss D.: 0.652336061000824\n",
      "Epoch: 150 Loss G.: 0.7632262110710144\n",
      "Epoch: 160 Loss D.: 0.6315798759460449\n",
      "Epoch: 160 Loss G.: 0.9124164581298828\n",
      "Epoch: 170 Loss D.: 0.6362939476966858\n",
      "Epoch: 170 Loss G.: 0.7425699830055237\n",
      "Epoch: 180 Loss D.: 0.6657485365867615\n",
      "Epoch: 180 Loss G.: 0.8601257801055908\n",
      "Epoch: 190 Loss D.: 0.633549690246582\n",
      "Epoch: 190 Loss G.: 0.8542953729629517\n",
      "Epoch: 200 Loss D.: 0.6707990765571594\n",
      "Epoch: 200 Loss G.: 0.8275060653686523\n",
      "Epoch: 210 Loss D.: 0.7174941897392273\n",
      "Epoch: 210 Loss G.: 0.7762402296066284\n",
      "Epoch: 220 Loss D.: 0.7113354206085205\n",
      "Epoch: 220 Loss G.: 0.6439037322998047\n",
      "Epoch: 230 Loss D.: 0.6773353219032288\n",
      "Epoch: 230 Loss G.: 0.7551125288009644\n",
      "Epoch: 240 Loss D.: 0.5948561429977417\n",
      "Epoch: 240 Loss G.: 0.8272783160209656\n",
      "Epoch: 250 Loss D.: 0.6310521960258484\n",
      "Epoch: 250 Loss G.: 0.7187694907188416\n",
      "Epoch: 260 Loss D.: 0.660944938659668\n",
      "Epoch: 260 Loss G.: 0.7584390640258789\n",
      "Epoch: 270 Loss D.: 0.5607531666755676\n",
      "Epoch: 270 Loss G.: 0.9714249968528748\n",
      "Epoch: 280 Loss D.: 0.5812971591949463\n",
      "Epoch: 280 Loss G.: 0.8923859596252441\n",
      "Epoch: 290 Loss D.: 0.5629896521568298\n",
      "Epoch: 290 Loss G.: 0.9733617305755615\n"
     ]
    }
   ],
   "source": [
    "for epoch in range(num_epochs):\n",
    "    for n, (real_samples, _) in enumerate(train_loader):\n",
    "        # Data for training the discriminator\n",
    "        real_samples_labels = torch.ones((batch_size, 1))\n",
    "        latent_space_samples = torch.randn((batch_size, 2))\n",
    "        generated_samples = generator(latent_space_samples)\n",
    "        generated_samples_labels = torch.zeros((batch_size, 1))\n",
    "        all_samples = torch.cat((real_samples, generated_samples))\n",
    "        all_samples_labels = torch.cat(\n",
    "            (real_samples_labels, generated_samples_labels)\n",
    "        )\n",
    "\n",
    "        # Training the discriminator\n",
    "        discriminator.zero_grad()\n",
    "        output_discriminator = discriminator(all_samples)\n",
    "        loss_discriminator = loss_function(\n",
    "            output_discriminator, all_samples_labels)\n",
    "        loss_discriminator.backward()\n",
    "        optimizer_discriminator.step()\n",
    "\n",
    "        # Data for training the generator\n",
    "        latent_space_samples = torch.randn((batch_size, 2))\n",
    "\n",
    "        # Training the generator\n",
    "        generator.zero_grad()\n",
    "        generated_samples = generator(latent_space_samples)\n",
    "        output_discriminator_generated = discriminator(generated_samples)\n",
    "        loss_generator = loss_function(\n",
    "            output_discriminator_generated, real_samples_labels\n",
    "        )\n",
    "        loss_generator.backward()\n",
    "        optimizer_generator.step()\n",
    "\n",
    "        # Show loss\n",
    "        if epoch % 10 == 0 and n == batch_size - 1:\n",
    "            print(f\"Epoch: {epoch} Loss D.: {loss_discriminator}\")\n",
    "            print(f\"Epoch: {epoch} Loss G.: {loss_generator}\")"
   ]
  },
  {
   "cell_type": "code",
   "execution_count": 12,
   "metadata": {},
   "outputs": [],
   "source": [
    "latent_space_samples = torch.randn(100, 2)\n",
    "generated_samples = generator(latent_space_samples)"
   ]
  },
  {
   "cell_type": "code",
   "execution_count": 13,
   "metadata": {},
   "outputs": [
    {
     "data": {
      "text/plain": [
       "[<matplotlib.lines.Line2D at 0x1dcc89fed60>]"
      ]
     },
     "execution_count": 13,
     "metadata": {},
     "output_type": "execute_result"
    },
    {
     "data": {
      "image/png": "[encoded data removed]",
      "text/plain": [
       "<Figure size 640x480 with 1 Axes>"
      ]
     },
     "metadata": {},
     "output_type": "display_data"
    }
   ],
   "source": [
    "generated_samples = generated_samples.detach()\n",
    "plt.plot(generated_samples[:, 0], generated_samples[:, 1], \".\")"
   ]
  }
 ],
 "metadata": {
  "kernelspec": {
   "display_name": "gan2",
   "language": "python",
   "name": "python3"
  },
  "language_info": {
   "codemirror_mode": {
    "name": "ipython",
    "version": 3
   },
   "file_extension": ".py",
   "mimetype": "text/x-python",
   "name": "python",
   "nbconvert_exporter": "python",
   "pygments_lexer": "ipython3",
   "version": "3.9.18"
  }
 },
 "nbformat": 4,
 "nbformat_minor": 2
}
